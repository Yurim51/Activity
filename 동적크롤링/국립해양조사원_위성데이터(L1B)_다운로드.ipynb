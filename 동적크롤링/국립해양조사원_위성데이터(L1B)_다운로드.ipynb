{
  "cells": [
    {
      "cell_type": "code",
      "execution_count": null,
      "id": "14c4e021",
      "metadata": {
        "id": "14c4e021"
      },
      "outputs": [],
      "source": [
        "import pandas as pd\n",
        "import selenium\n",
        "import bs4\n",
        "from selenium import webdriver\n",
        "from selenium.webdriver.support.select import Select\n",
        "from selenium.webdriver.common.by import By\n",
        "from selenium.common.exceptions import NoSuchElementException"
      ]
    },
    {
      "cell_type": "markdown",
      "id": "a78ce15f",
      "metadata": {
        "id": "a78ce15f"
      },
      "source": [
        "# 202112"
      ]
    },
    {
      "cell_type": "code",
      "execution_count": null,
      "id": "1b5f923f",
      "metadata": {
        "id": "1b5f923f",
        "outputId": "4254ce89-cc82-4292-fd9f-b06571341d61"
      },
      "outputs": [
        {
          "data": {
            "text/plain": [
              "['http://210.110.189.23/data/GOCI-II/2021/12/21/L1B_COMP/GK2_GC2_L1B_20211221_001530/GK2_GOCI2_L1B_20211221_001530_LA_S007.nc',\n",
              " 'http://210.110.189.23/data/GOCI-II/2021/12/21/L1B_COMP/GK2_GC2_L1B_20211221_011530/GK2_GOCI2_L1B_20211221_011530_LA_S007.nc',\n",
              " 'http://210.110.189.23/data/GOCI-II/2021/12/21/L1B_COMP/GK2_GC2_L1B_20211221_021530/GK2_GOCI2_L1B_20211221_021530_LA_S007.nc',\n",
              " 'http://210.110.189.23/data/GOCI-II/2021/12/21/L1B_COMP/GK2_GC2_L1B_20211221_031530/GK2_GOCI2_L1B_20211221_031530_LA_S007.nc',\n",
              " 'http://210.110.189.23/data/GOCI-II/2021/12/21/L1B_COMP/GK2_GC2_L1B_20211221_041530/GK2_GOCI2_L1B_20211221_041530_LA_S007.nc',\n",
              " 'http://210.110.189.23/data/GOCI-II/2021/12/21/L1B_COMP/GK2_GC2_L1B_20211221_051530/GK2_GOCI2_L1B_20211221_051530_LA_S007.nc',\n",
              " 'http://210.110.189.23/data/GOCI-II/2021/12/21/L1B_COMP/GK2_GC2_L1B_20211221_061530/GK2_GOCI2_L1B_20211221_061530_LA_S007.nc',\n",
              " 'http://210.110.189.23/data/GOCI-II/2021/12/21/L1B_COMP/GK2_GC2_L1B_20211221_071530/GK2_GOCI2_L1B_20211221_071530_LA_S007.nc',\n",
              " 'http://210.110.189.23/data/GOCI-II/2021/12/21/L1B_COMP/GK2_GC2_L1B_20211221_081530/GK2_GOCI2_L1B_20211221_081530_LA_S007.nc',\n",
              " 'http://210.110.189.23/data/GOCI-II/2021/12/21/L1B_COMP/GK2_GC2_L1B_20211221_231530/GK2_GOCI2_L1B_20211221_231530_LA_S007.nc',\n",
              " 'http://210.110.189.23/data/GOCI-II/2021/12/22/L1B_COMP/GK2_GC2_L1B_20211222_001530/GK2_GOCI2_L1B_20211222_001530_LA_S007.nc',\n",
              " 'http://210.110.189.23/data/GOCI-II/2021/12/22/L1B_COMP/GK2_GC2_L1B_20211222_011530/GK2_GOCI2_L1B_20211222_011530_LA_S007.nc',\n",
              " 'http://210.110.189.23/data/GOCI-II/2021/12/22/L1B_COMP/GK2_GC2_L1B_20211222_021530/GK2_GOCI2_L1B_20211222_021530_LA_S007.nc',\n",
              " 'http://210.110.189.23/data/GOCI-II/2021/12/22/L1B_COMP/GK2_GC2_L1B_20211222_031530/GK2_GOCI2_L1B_20211222_031530_LA_S007.nc',\n",
              " 'http://210.110.189.23/data/GOCI-II/2021/12/22/L1B_COMP/GK2_GC2_L1B_20211222_041530/GK2_GOCI2_L1B_20211222_041530_LA_S007.nc',\n",
              " 'http://210.110.189.23/data/GOCI-II/2021/12/22/L1B_COMP/GK2_GC2_L1B_20211222_051530/GK2_GOCI2_L1B_20211222_051530_LA_S007.nc',\n",
              " 'http://210.110.189.23/data/GOCI-II/2021/12/22/L1B_COMP/GK2_GC2_L1B_20211222_061530/GK2_GOCI2_L1B_20211222_061530_LA_S007.nc',\n",
              " 'http://210.110.189.23/data/GOCI-II/2021/12/22/L1B_COMP/GK2_GC2_L1B_20211222_071530/GK2_GOCI2_L1B_20211222_071530_LA_S007.nc',\n",
              " 'http://210.110.189.23/data/GOCI-II/2021/12/22/L1B_COMP/GK2_GC2_L1B_20211222_081530/GK2_GOCI2_L1B_20211222_081530_LA_S007.nc',\n",
              " 'http://210.110.189.23/data/GOCI-II/2021/12/22/L1B_COMP/GK2_GC2_L1B_20211222_231530/GK2_GOCI2_L1B_20211222_231530_LA_S007.nc',\n",
              " 'http://210.110.189.23/data/GOCI-II/2021/12/23/L1B_COMP/GK2_GC2_L1B_20211223_001530/GK2_GOCI2_L1B_20211223_001530_LA_S007.nc',\n",
              " 'http://210.110.189.23/data/GOCI-II/2021/12/23/L1B_COMP/GK2_GC2_L1B_20211223_011530/GK2_GOCI2_L1B_20211223_011530_LA_S007.nc',\n",
              " 'http://210.110.189.23/data/GOCI-II/2021/12/23/L1B_COMP/GK2_GC2_L1B_20211223_021530/GK2_GOCI2_L1B_20211223_021530_LA_S007.nc',\n",
              " 'http://210.110.189.23/data/GOCI-II/2021/12/23/L1B_COMP/GK2_GC2_L1B_20211223_031530/GK2_GOCI2_L1B_20211223_031530_LA_S007.nc',\n",
              " 'http://210.110.189.23/data/GOCI-II/2021/12/23/L1B_COMP/GK2_GC2_L1B_20211223_041530/GK2_GOCI2_L1B_20211223_041530_LA_S007.nc',\n",
              " 'http://210.110.189.23/data/GOCI-II/2021/12/23/L1B_COMP/GK2_GC2_L1B_20211223_051530/GK2_GOCI2_L1B_20211223_051530_LA_S007.nc',\n",
              " 'http://210.110.189.23/data/GOCI-II/2021/12/23/L1B_COMP/GK2_GC2_L1B_20211223_061530/GK2_GOCI2_L1B_20211223_061530_LA_S007.nc',\n",
              " 'http://210.110.189.23/data/GOCI-II/2021/12/23/L1B_COMP/GK2_GC2_L1B_20211223_071530/GK2_GOCI2_L1B_20211223_071530_LA_S007.nc',\n",
              " 'http://210.110.189.23/data/GOCI-II/2021/12/23/L1B_COMP/GK2_GC2_L1B_20211223_081530/GK2_GOCI2_L1B_20211223_081530_LA_S007.nc',\n",
              " 'http://210.110.189.23/data/GOCI-II/2021/12/23/L1B_COMP/GK2_GC2_L1B_20211223_231530/GK2_GOCI2_L1B_20211223_231530_LA_S007.nc',\n",
              " 'http://210.110.189.23/data/GOCI-II/2021/12/24/L1B_COMP/GK2_GC2_L1B_20211224_001530/GK2_GOCI2_L1B_20211224_001530_LA_S007.nc',\n",
              " 'http://210.110.189.23/data/GOCI-II/2021/12/24/L1B_COMP/GK2_GC2_L1B_20211224_011530/GK2_GOCI2_L1B_20211224_011530_LA_S007.nc',\n",
              " 'http://210.110.189.23/data/GOCI-II/2021/12/24/L1B_COMP/GK2_GC2_L1B_20211224_021530/GK2_GOCI2_L1B_20211224_021530_LA_S007.nc',\n",
              " 'http://210.110.189.23/data/GOCI-II/2021/12/24/L1B_COMP/GK2_GC2_L1B_20211224_031530/GK2_GOCI2_L1B_20211224_031530_LA_S007.nc',\n",
              " 'http://210.110.189.23/data/GOCI-II/2021/12/24/L1B_COMP/GK2_GC2_L1B_20211224_041530/GK2_GOCI2_L1B_20211224_041530_LA_S007.nc',\n",
              " 'http://210.110.189.23/data/GOCI-II/2021/12/24/L1B_COMP/GK2_GC2_L1B_20211224_051530/GK2_GOCI2_L1B_20211224_051530_LA_S007.nc',\n",
              " 'http://210.110.189.23/data/GOCI-II/2021/12/24/L1B_COMP/GK2_GC2_L1B_20211224_061530/GK2_GOCI2_L1B_20211224_061530_LA_S007.nc',\n",
              " 'http://210.110.189.23/data/GOCI-II/2021/12/24/L1B_COMP/GK2_GC2_L1B_20211224_071530/GK2_GOCI2_L1B_20211224_071530_LA_S007.nc',\n",
              " 'http://210.110.189.23/data/GOCI-II/2021/12/24/L1B_COMP/GK2_GC2_L1B_20211224_081530/GK2_GOCI2_L1B_20211224_081530_LA_S007.nc',\n",
              " 'http://210.110.189.23/data/GOCI-II/2021/12/24/L1B_COMP/GK2_GC2_L1B_20211224_231530/GK2_GOCI2_L1B_20211224_231530_LA_S007.nc',\n",
              " 'http://210.110.189.23/data/GOCI-II/2021/12/25/L1B_COMP/GK2_GC2_L1B_20211225_001530/GK2_GOCI2_L1B_20211225_001530_LA_S007.nc',\n",
              " 'http://210.110.189.23/data/GOCI-II/2021/12/25/L1B_COMP/GK2_GC2_L1B_20211225_011530/GK2_GOCI2_L1B_20211225_011530_LA_S007.nc',\n",
              " 'http://210.110.189.23/data/GOCI-II/2021/12/25/L1B_COMP/GK2_GC2_L1B_20211225_021530/GK2_GOCI2_L1B_20211225_021530_LA_S007.nc',\n",
              " 'http://210.110.189.23/data/GOCI-II/2021/12/25/L1B_COMP/GK2_GC2_L1B_20211225_031530/GK2_GOCI2_L1B_20211225_031530_LA_S007.nc',\n",
              " 'http://210.110.189.23/data/GOCI-II/2021/12/25/L1B_COMP/GK2_GC2_L1B_20211225_041530/GK2_GOCI2_L1B_20211225_041530_LA_S007.nc',\n",
              " 'http://210.110.189.23/data/GOCI-II/2021/12/25/L1B_COMP/GK2_GC2_L1B_20211225_051530/GK2_GOCI2_L1B_20211225_051530_LA_S007.nc',\n",
              " 'http://210.110.189.23/data/GOCI-II/2021/12/25/L1B_COMP/GK2_GC2_L1B_20211225_061530/GK2_GOCI2_L1B_20211225_061530_LA_S007.nc',\n",
              " 'http://210.110.189.23/data/GOCI-II/2021/12/25/L1B_COMP/GK2_GC2_L1B_20211225_071530/GK2_GOCI2_L1B_20211225_071530_LA_S007.nc',\n",
              " 'http://210.110.189.23/data/GOCI-II/2021/12/25/L1B_COMP/GK2_GC2_L1B_20211225_081530/GK2_GOCI2_L1B_20211225_081530_LA_S007.nc',\n",
              " 'http://210.110.189.23/data/GOCI-II/2021/12/25/L1B_COMP/GK2_GC2_L1B_20211225_231530/GK2_GOCI2_L1B_20211225_231530_LA_S007.nc',\n",
              " 'http://210.110.189.23/data/GOCI-II/2021/12/26/L1B_COMP/GK2_GC2_L1B_20211226_001530/GK2_GOCI2_L1B_20211226_001530_LA_S007.nc',\n",
              " 'http://210.110.189.23/data/GOCI-II/2021/12/26/L1B_COMP/GK2_GC2_L1B_20211226_011530/GK2_GOCI2_L1B_20211226_011530_LA_S007.nc',\n",
              " 'http://210.110.189.23/data/GOCI-II/2021/12/26/L1B_COMP/GK2_GC2_L1B_20211226_021530/GK2_GOCI2_L1B_20211226_021530_LA_S007.nc',\n",
              " 'http://210.110.189.23/data/GOCI-II/2021/12/26/L1B_COMP/GK2_GC2_L1B_20211226_031530/GK2_GOCI2_L1B_20211226_031530_LA_S007.nc',\n",
              " 'http://210.110.189.23/data/GOCI-II/2021/12/26/L1B_COMP/GK2_GC2_L1B_20211226_041530/GK2_GOCI2_L1B_20211226_041530_LA_S007.nc',\n",
              " 'http://210.110.189.23/data/GOCI-II/2021/12/26/L1B_COMP/GK2_GC2_L1B_20211226_051530/GK2_GOCI2_L1B_20211226_051530_LA_S007.nc',\n",
              " 'http://210.110.189.23/data/GOCI-II/2021/12/26/L1B_COMP/GK2_GC2_L1B_20211226_061530/GK2_GOCI2_L1B_20211226_061530_LA_S007.nc',\n",
              " 'http://210.110.189.23/data/GOCI-II/2021/12/26/L1B_COMP/GK2_GC2_L1B_20211226_071530/GK2_GOCI2_L1B_20211226_071530_LA_S007.nc',\n",
              " 'http://210.110.189.23/data/GOCI-II/2021/12/26/L1B_COMP/GK2_GC2_L1B_20211226_081530/GK2_GOCI2_L1B_20211226_081530_LA_S007.nc',\n",
              " 'http://210.110.189.23/data/GOCI-II/2021/12/26/L1B_COMP/GK2_GC2_L1B_20211226_231530/GK2_GOCI2_L1B_20211226_231530_LA_S007.nc',\n",
              " 'http://210.110.189.23/data/GOCI-II/2021/12/27/L1B_COMP/GK2_GC2_L1B_20211227_001530/GK2_GOCI2_L1B_20211227_001530_LA_S007.nc',\n",
              " 'http://210.110.189.23/data/GOCI-II/2021/12/27/L1B_COMP/GK2_GC2_L1B_20211227_011530/GK2_GOCI2_L1B_20211227_011530_LA_S007.nc',\n",
              " 'http://210.110.189.23/data/GOCI-II/2021/12/27/L1B_COMP/GK2_GC2_L1B_20211227_021530/GK2_GOCI2_L1B_20211227_021530_LA_S007.nc',\n",
              " 'http://210.110.189.23/data/GOCI-II/2021/12/27/L1B_COMP/GK2_GC2_L1B_20211227_031530/GK2_GOCI2_L1B_20211227_031530_LA_S007.nc',\n",
              " 'http://210.110.189.23/data/GOCI-II/2021/12/27/L1B_COMP/GK2_GC2_L1B_20211227_041530/GK2_GOCI2_L1B_20211227_041530_LA_S007.nc',\n",
              " 'http://210.110.189.23/data/GOCI-II/2021/12/27/L1B_COMP/GK2_GC2_L1B_20211227_051530/GK2_GOCI2_L1B_20211227_051530_LA_S007.nc',\n",
              " 'http://210.110.189.23/data/GOCI-II/2021/12/27/L1B_COMP/GK2_GC2_L1B_20211227_061530/GK2_GOCI2_L1B_20211227_061530_LA_S007.nc',\n",
              " 'http://210.110.189.23/data/GOCI-II/2021/12/27/L1B_COMP/GK2_GC2_L1B_20211227_071530/GK2_GOCI2_L1B_20211227_071530_LA_S007.nc',\n",
              " 'http://210.110.189.23/data/GOCI-II/2021/12/27/L1B_COMP/GK2_GC2_L1B_20211227_081530/GK2_GOCI2_L1B_20211227_081530_LA_S007.nc',\n",
              " 'http://210.110.189.23/data/GOCI-II/2021/12/27/L1B_COMP/GK2_GC2_L1B_20211227_231530/GK2_GOCI2_L1B_20211227_231530_LA_S007.nc',\n",
              " 'http://210.110.189.23/data/GOCI-II/2021/12/28/L1B_COMP/GK2_GC2_L1B_20211228_001530/GK2_GOCI2_L1B_20211228_001530_LA_S007.nc',\n",
              " 'http://210.110.189.23/data/GOCI-II/2021/12/28/L1B_COMP/GK2_GC2_L1B_20211228_011530/GK2_GOCI2_L1B_20211228_011530_LA_S007.nc',\n",
              " 'http://210.110.189.23/data/GOCI-II/2021/12/28/L1B_COMP/GK2_GC2_L1B_20211228_021530/GK2_GOCI2_L1B_20211228_021530_LA_S007.nc',\n",
              " 'http://210.110.189.23/data/GOCI-II/2021/12/28/L1B_COMP/GK2_GC2_L1B_20211228_031530/GK2_GOCI2_L1B_20211228_031530_LA_S007.nc',\n",
              " 'http://210.110.189.23/data/GOCI-II/2021/12/28/L1B_COMP/GK2_GC2_L1B_20211228_041530/GK2_GOCI2_L1B_20211228_041530_LA_S007.nc',\n",
              " 'http://210.110.189.23/data/GOCI-II/2021/12/28/L1B_COMP/GK2_GC2_L1B_20211228_051530/GK2_GOCI2_L1B_20211228_051530_LA_S007.nc',\n",
              " 'http://210.110.189.23/data/GOCI-II/2021/12/28/L1B_COMP/GK2_GC2_L1B_20211228_061530/GK2_GOCI2_L1B_20211228_061530_LA_S007.nc',\n",
              " 'http://210.110.189.23/data/GOCI-II/2021/12/28/L1B_COMP/GK2_GC2_L1B_20211228_071530/GK2_GOCI2_L1B_20211228_071530_LA_S007.nc',\n",
              " 'http://210.110.189.23/data/GOCI-II/2021/12/28/L1B_COMP/GK2_GC2_L1B_20211228_081530/GK2_GOCI2_L1B_20211228_081530_LA_S007.nc',\n",
              " 'http://210.110.189.23/data/GOCI-II/2021/12/28/L1B_COMP/GK2_GC2_L1B_20211228_231530/GK2_GOCI2_L1B_20211228_231530_LA_S007.nc',\n",
              " 'http://210.110.189.23/data/GOCI-II/2021/12/29/L1B_COMP/GK2_GC2_L1B_20211229_001530/GK2_GOCI2_L1B_20211229_001530_LA_S007.nc',\n",
              " 'http://210.110.189.23/data/GOCI-II/2021/12/29/L1B_COMP/GK2_GC2_L1B_20211229_011530/GK2_GOCI2_L1B_20211229_011530_LA_S007.nc',\n",
              " 'http://210.110.189.23/data/GOCI-II/2021/12/29/L1B_COMP/GK2_GC2_L1B_20211229_021530/GK2_GOCI2_L1B_20211229_021530_LA_S007.nc',\n",
              " 'http://210.110.189.23/data/GOCI-II/2021/12/29/L1B_COMP/GK2_GC2_L1B_20211229_031530/GK2_GOCI2_L1B_20211229_031530_LA_S007.nc',\n",
              " 'http://210.110.189.23/data/GOCI-II/2021/12/29/L1B_COMP/GK2_GC2_L1B_20211229_041530/GK2_GOCI2_L1B_20211229_041530_LA_S007.nc',\n",
              " 'http://210.110.189.23/data/GOCI-II/2021/12/29/L1B_COMP/GK2_GC2_L1B_20211229_051530/GK2_GOCI2_L1B_20211229_051530_LA_S007.nc',\n",
              " 'http://210.110.189.23/data/GOCI-II/2021/12/29/L1B_COMP/GK2_GC2_L1B_20211229_061530/GK2_GOCI2_L1B_20211229_061530_LA_S007.nc',\n",
              " 'http://210.110.189.23/data/GOCI-II/2021/12/29/L1B_COMP/GK2_GC2_L1B_20211229_071530/GK2_GOCI2_L1B_20211229_071530_LA_S007.nc',\n",
              " 'http://210.110.189.23/data/GOCI-II/2021/12/29/L1B_COMP/GK2_GC2_L1B_20211229_081530/GK2_GOCI2_L1B_20211229_081530_LA_S007.nc',\n",
              " 'http://210.110.189.23/data/GOCI-II/2021/12/29/L1B_COMP/GK2_GC2_L1B_20211229_231530/GK2_GOCI2_L1B_20211229_231530_LA_S007.nc',\n",
              " 'http://210.110.189.23/data/GOCI-II/2021/12/30/L1B_COMP/GK2_GC2_L1B_20211230_001530/GK2_GOCI2_L1B_20211230_001530_LA_S007.nc',\n",
              " 'http://210.110.189.23/data/GOCI-II/2021/12/30/L1B_COMP/GK2_GC2_L1B_20211230_011530/GK2_GOCI2_L1B_20211230_011530_LA_S007.nc',\n",
              " 'http://210.110.189.23/data/GOCI-II/2021/12/30/L1B_COMP/GK2_GC2_L1B_20211230_021530/GK2_GOCI2_L1B_20211230_021530_LA_S007.nc',\n",
              " 'http://210.110.189.23/data/GOCI-II/2021/12/30/L1B_COMP/GK2_GC2_L1B_20211230_031530/GK2_GOCI2_L1B_20211230_031530_LA_S007.nc',\n",
              " 'http://210.110.189.23/data/GOCI-II/2021/12/30/L1B_COMP/GK2_GC2_L1B_20211230_041530/GK2_GOCI2_L1B_20211230_041530_LA_S007.nc',\n",
              " 'http://210.110.189.23/data/GOCI-II/2021/12/30/L1B_COMP/GK2_GC2_L1B_20211230_051530/GK2_GOCI2_L1B_20211230_051530_LA_S007.nc',\n",
              " 'http://210.110.189.23/data/GOCI-II/2021/12/30/L1B_COMP/GK2_GC2_L1B_20211230_061530/GK2_GOCI2_L1B_20211230_061530_LA_S007.nc',\n",
              " 'http://210.110.189.23/data/GOCI-II/2021/12/30/L1B_COMP/GK2_GC2_L1B_20211230_071530/GK2_GOCI2_L1B_20211230_071530_LA_S007.nc',\n",
              " 'http://210.110.189.23/data/GOCI-II/2021/12/30/L1B_COMP/GK2_GC2_L1B_20211230_081530/GK2_GOCI2_L1B_20211230_081530_LA_S007.nc',\n",
              " 'http://210.110.189.23/data/GOCI-II/2021/12/30/L1B_COMP/GK2_GC2_L1B_20211230_231530/GK2_GOCI2_L1B_20211230_231530_LA_S007.nc',\n",
              " 'http://210.110.189.23/data/GOCI-II/2021/12/31/L1B_COMP/GK2_GC2_L1B_20211231_001530/GK2_GOCI2_L1B_20211231_001530_LA_S007.nc',\n",
              " 'http://210.110.189.23/data/GOCI-II/2021/12/31/L1B_COMP/GK2_GC2_L1B_20211231_011530/GK2_GOCI2_L1B_20211231_011530_LA_S007.nc',\n",
              " 'http://210.110.189.23/data/GOCI-II/2021/12/31/L1B_COMP/GK2_GC2_L1B_20211231_021530/GK2_GOCI2_L1B_20211231_021530_LA_S007.nc',\n",
              " 'http://210.110.189.23/data/GOCI-II/2021/12/31/L1B_COMP/GK2_GC2_L1B_20211231_031530/GK2_GOCI2_L1B_20211231_031530_LA_S007.nc',\n",
              " 'http://210.110.189.23/data/GOCI-II/2021/12/31/L1B_COMP/GK2_GC2_L1B_20211231_041530/GK2_GOCI2_L1B_20211231_041530_LA_S007.nc',\n",
              " 'http://210.110.189.23/data/GOCI-II/2021/12/31/L1B_COMP/GK2_GC2_L1B_20211231_051530/GK2_GOCI2_L1B_20211231_051530_LA_S007.nc',\n",
              " 'http://210.110.189.23/data/GOCI-II/2021/12/31/L1B_COMP/GK2_GC2_L1B_20211231_061530/GK2_GOCI2_L1B_20211231_061530_LA_S007.nc',\n",
              " 'http://210.110.189.23/data/GOCI-II/2021/12/31/L1B_COMP/GK2_GC2_L1B_20211231_071530/GK2_GOCI2_L1B_20211231_071530_LA_S007.nc',\n",
              " 'http://210.110.189.23/data/GOCI-II/2021/12/31/L1B_COMP/GK2_GC2_L1B_20211231_081530/GK2_GOCI2_L1B_20211231_081530_LA_S007.nc',\n",
              " 'http://210.110.189.23/data/GOCI-II/2021/12/31/L1B_COMP/GK2_GC2_L1B_20211231_231530/GK2_GOCI2_L1B_20211231_231530_LA_S007.nc']"
            ]
          },
          "execution_count": 16,
          "metadata": {},
          "output_type": "execute_result"
        }
      ],
      "source": [
        "url_2112=[]\n",
        "date = ['21','22','23','24','25','26','27','28','29','30','31']\n",
        "time = ['001530', '011530', '021530', '031530', '041530', '051530', '061530', '071530', '081530','231530']\n",
        "for j in range(len(date)):\n",
        "    for k in range(len(time)):\n",
        "        d = date[j]\n",
        "        t = time[k]\n",
        "        URL = f\"http://210.110.189.23/data/GOCI-II/2021/12/{d}/L1B_COMP/GK2_GC2_L1B_202112{d}_{t}/GK2_GOCI2_L1B_202112{d}_{t}_LA_S007.nc\"\n",
        "        url_2112.append(URL)\n",
        "\n",
        "url_2112"
      ]
    },
    {
      "cell_type": "code",
      "execution_count": null,
      "id": "e491be32",
      "metadata": {
        "scrolled": true,
        "id": "e491be32",
        "outputId": "54dd40f3-0aa6-48c4-ead3-856724140cd1"
      },
      "outputs": [
        {
          "data": {
            "text/plain": [
              "310"
            ]
          },
          "execution_count": 4,
          "metadata": {},
          "output_type": "execute_result"
        }
      ],
      "source": [
        "len(url_2112)"
      ]
    },
    {
      "cell_type": "markdown",
      "id": "d490c00c",
      "metadata": {
        "id": "d490c00c"
      },
      "source": [
        "## 다운로드"
      ]
    },
    {
      "cell_type": "code",
      "execution_count": null,
      "id": "355010be",
      "metadata": {
        "id": "355010be",
        "outputId": "adccf636-b7ed-4633-ad71-26978ffe8d14"
      },
      "outputs": [
        {
          "name": "stderr",
          "output_type": "stream",
          "text": [
            "C:\\Users\\user\\AppData\\Local\\Temp/ipykernel_13428/36258892.py:3: DeprecationWarning: executable_path has been deprecated, please pass in a Service object\n",
            "  driver = webdriver.Chrome('./chromedriver.exe')\n"
          ]
        }
      ],
      "source": [
        "import time\n",
        "\n",
        "driver = webdriver.Chrome('./chromedriver.exe')\n",
        "for i in range(len(url_2112)):\n",
        "    url = url_2112[i]\n",
        "    driver.get(url)"
      ]
    },
    {
      "cell_type": "markdown",
      "id": "e94f62ae",
      "metadata": {
        "id": "e94f62ae"
      },
      "source": [
        "## 추가적인 파일 다운로드"
      ]
    },
    {
      "cell_type": "code",
      "execution_count": null,
      "id": "9ad074e5",
      "metadata": {
        "id": "9ad074e5",
        "outputId": "9457e7ba-75d7-42fb-e7d8-ba90b63ec4a6"
      },
      "outputs": [
        {
          "name": "stdout",
          "output_type": "stream",
          "text": [
            "['http://210.110.189.23/data/GOCI-II/2021/12/01/L1B_COMP/GK2_GC2_L1B_20211201_061630/GK2_GOCI2_L1B_20211201_061630_LA_S007.nc', 'http://210.110.189.23/data/GOCI-II/2021/12/02/L1B_COMP/GK2_GC2_L1B_20211202_071630/GK2_GOCI2_L1B_20211202_071630_LA_S007.nc', 'http://210.110.189.23/data/GOCI-II/2021/12/03/L1B_COMP/GK2_GC2_L1B_20211203_061630/GK2_GOCI2_L1B_20211203_061630_LA_S007.nc', 'http://210.110.189.23/data/GOCI-II/2021/12/04/L1B_COMP/GK2_GC2_L1B_20211204_061630/GK2_GOCI2_L1B_20211204_061630_LA_S007.nc', 'http://210.110.189.23/data/GOCI-II/2021/12/05/L1B_COMP/GK2_GC2_L1B_20211205_061630/GK2_GOCI2_L1B_20211205_061630_LA_S007.nc', 'http://210.110.189.23/data/GOCI-II/2021/12/06/L1B_COMP/GK2_GC2_L1B_20211206_061630/GK2_GOCI2_L1B_20211206_061630_LA_S007.nc', 'http://210.110.189.23/data/GOCI-II/2021/12/07/L1B_COMP/GK2_GC2_L1B_20211207_061630/GK2_GOCI2_L1B_20211207_061630_LA_S007.nc', 'http://210.110.189.23/data/GOCI-II/2021/12/07/L1B_COMP/GK2_GC2_L1B_20211207_031630/GK2_GOCI2_L1B_20211207_031630_LA_S007.nc', 'http://210.110.189.23/data/GOCI-II/2021/12/08/L1B_COMP/GK2_GC2_L1B_20211208_061630/GK2_GOCI2_L1B_20211208_061630_LA_S007.nc', 'http://210.110.189.23/data/GOCI-II/2021/12/09/L1B_COMP/GK2_GC2_L1B_20211209_061630/GK2_GOCI2_L1B_20211209_061630_LA_S007.nc', 'http://210.110.189.23/data/GOCI-II/2021/12/10/L1B_COMP/GK2_GC2_L1B_20211210_061630/GK2_GOCI2_L1B_20211210_061630_LA_S007.nc', 'http://210.110.189.23/data/GOCI-II/2021/12/11/L1B_COMP/GK2_GC2_L1B_20211211_061630/GK2_GOCI2_L1B_20211211_061630_LA_S007.nc', 'http://210.110.189.23/data/GOCI-II/2021/12/12/L1B_COMP/GK2_GC2_L1B_20211212_061630/GK2_GOCI2_L1B_20211212_061630_LA_S007.nc', 'http://210.110.189.23/data/GOCI-II/2021/12/13/L1B_COMP/GK2_GC2_L1B_20211213_061630/GK2_GOCI2_L1B_20211213_061630_LA_S007.nc', 'http://210.110.189.23/data/GOCI-II/2021/12/14/L1B_COMP/GK2_GC2_L1B_20211214_061630/GK2_GOCI2_L1B_20211214_061630_LA_S007.nc', 'http://210.110.189.23/data/GOCI-II/2021/12/15/L1B_COMP/GK2_GC2_L1B_20211215_061630/GK2_GOCI2_L1B_20211215_061630_LA_S007.nc', 'http://210.110.189.23/data/GOCI-II/2021/12/16/L1B_COMP/GK2_GC2_L1B_20211216_061630/GK2_GOCI2_L1B_20211216_061630_LA_S007.nc', 'http://210.110.189.23/data/GOCI-II/2021/12/17/L1B_COMP/GK2_GC2_L1B_20211217_061630/GK2_GOCI2_L1B_20211217_061630_LA_S007.nc', 'http://210.110.189.23/data/GOCI-II/2021/12/18/L1B_COMP/GK2_GC2_L1B_20211218_061630/GK2_GOCI2_L1B_20211218_061630_LA_S007.nc', 'http://210.110.189.23/data/GOCI-II/2021/12/19/L1B_COMP/GK2_GC2_L1B_20211219_061630/GK2_GOCI2_L1B_20211219_061630_LA_S007.nc', 'http://210.110.189.23/data/GOCI-II/2021/12/20/L1B_COMP/GK2_GC2_L1B_20211220_061630/GK2_GOCI2_L1B_20211220_061630_LA_S007.nc', 'http://210.110.189.23/data/GOCI-II/2021/12/21/L1B_COMP/GK2_GC2_L1B_20211221_031630/GK2_GOCI2_L1B_20211221_031630_LA_S007.nc', 'http://210.110.189.23/data/GOCI-II/2021/12/28/L1B_COMP/GK2_GC2_L1B_20211228_061630/GK2_GOCI2_L1B_20211228_061630_LA_S007.nc']\n"
          ]
        }
      ],
      "source": [
        "#2021.12 링크 plus\n",
        "f = open('L1B_url202112.txt', 'r')\n",
        "url_2112p = f.read().splitlines()\n",
        "print(url_2112p)"
      ]
    },
    {
      "cell_type": "code",
      "execution_count": null,
      "id": "bc666cc9",
      "metadata": {
        "scrolled": true,
        "id": "bc666cc9",
        "outputId": "26a88742-2304-452d-b54e-5321d11f61f7"
      },
      "outputs": [
        {
          "data": {
            "text/plain": [
              "23"
            ]
          },
          "execution_count": 19,
          "metadata": {},
          "output_type": "execute_result"
        }
      ],
      "source": [
        "len(url_2112p)"
      ]
    },
    {
      "cell_type": "code",
      "execution_count": null,
      "id": "f2df9e1c",
      "metadata": {
        "id": "f2df9e1c",
        "outputId": "0243a334-bfb8-4e2a-e3b2-85066dd426cc"
      },
      "outputs": [
        {
          "name": "stderr",
          "output_type": "stream",
          "text": [
            "C:\\Users\\user\\AppData\\Local\\Temp/ipykernel_13428/3210494585.py:3: DeprecationWarning: executable_path has been deprecated, please pass in a Service object\n",
            "  driver = webdriver.Chrome('./chromedriver.exe')\n"
          ]
        }
      ],
      "source": [
        "import time\n",
        "\n",
        "driver = webdriver.Chrome('./chromedriver.exe')\n",
        "for i in range(len(url_2112p)):\n",
        "    url = url_2112p[i]\n",
        "    driver.get(url)"
      ]
    }
  ],
  "metadata": {
    "kernelspec": {
      "display_name": "Python 3 (ipykernel)",
      "language": "python",
      "name": "python3"
    },
    "language_info": {
      "codemirror_mode": {
        "name": "ipython",
        "version": 3
      },
      "file_extension": ".py",
      "mimetype": "text/x-python",
      "name": "python",
      "nbconvert_exporter": "python",
      "pygments_lexer": "ipython3",
      "version": "3.9.7"
    },
    "toc": {
      "base_numbering": 1,
      "nav_menu": {},
      "number_sections": true,
      "sideBar": true,
      "skip_h1_title": false,
      "title_cell": "Table of Contents",
      "title_sidebar": "Contents",
      "toc_cell": false,
      "toc_position": {
        "height": "calc(100% - 180px)",
        "left": "10px",
        "top": "150px",
        "width": "165px"
      },
      "toc_section_display": true,
      "toc_window_display": true
    },
    "colab": {
      "provenance": []
    }
  },
  "nbformat": 4,
  "nbformat_minor": 5
}